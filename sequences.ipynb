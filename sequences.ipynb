{
 "cells": [
  {
   "cell_type": "code",
   "execution_count": 1,
   "metadata": {},
   "outputs": [],
   "source": [
    "from PrimaryGene import PrimaryGene\n",
    "from homologs import HomologFinder\n",
    "import xlrd\n",
    "import os"
   ]
  },
  {
   "cell_type": "code",
   "execution_count": 2,
   "metadata": {},
   "outputs": [],
   "source": [
    "wb = xlrd.open_workbook('57_top_candidates.xlsx')"
   ]
  },
  {
   "cell_type": "code",
   "execution_count": 3,
   "metadata": {},
   "outputs": [],
   "source": [
    "sheet = wb.sheet_by_index(0)"
   ]
  },
  {
   "cell_type": "code",
   "execution_count": 5,
   "metadata": {},
   "outputs": [
    {
     "data": {
      "text/plain": [
       "[text:'WBGene00007153 ',\n",
       " text:'clec-41 ',\n",
       " text:'B0365.6',\n",
       " text:'P90732',\n",
       " text:'C-type LECtin(clec-41)']"
      ]
     },
     "execution_count": 5,
     "metadata": {},
     "output_type": "execute_result"
    }
   ],
   "source": [
    "sheet.row(0)"
   ]
  },
  {
   "cell_type": "code",
   "execution_count": 11,
   "metadata": {},
   "outputs": [],
   "source": [
    "uniprot_ids = [cell.value for cell in sheet.col(3)]\n",
    "ids = ['C32H11.10',\n",
    "'F11E6.3',\n",
    "'K04F1.13',\n",
    "'F41B5.3',\n",
    "'F54E2.1',\n",
    "'C36C5.5',\n",
    "'T24A6.16',\n",
    "'F25B4.9',\n",
    "'Y38A10A.2',\n",
    "'F41E6.6',\n",
    "'Y22F5A.6',\n",
    "'C13C12.2',\n",
    "'F56B6.6']\n",
    "\n",
    "ids[ids.index('K04F1.13')] = 'K04F1.11'"
   ]
  },
  {
   "cell_type": "code",
   "execution_count": 6,
   "metadata": {},
   "outputs": [
    {
     "data": {
      "text/plain": [
       "13"
      ]
     },
     "execution_count": 6,
     "metadata": {},
     "output_type": "execute_result"
    }
   ],
   "source": [
    "len(ids)"
   ]
  },
  {
   "cell_type": "code",
   "execution_count": 5,
   "metadata": {},
   "outputs": [
    {
     "data": {
      "text/plain": [
       "['P90732',\n",
       " 'Q9GZD5',\n",
       " 'Q17688',\n",
       " 'Q95003',\n",
       " 'Q17944',\n",
       " 'P91047',\n",
       " 'Q22903',\n",
       " 'O45078',\n",
       " 'Q9U3N6',\n",
       " 'O16405',\n",
       " 'Q94176',\n",
       " 'Q18676',\n",
       " 'Q9XUG2',\n",
       " 'Q9XUF4',\n",
       " 'Q18756',\n",
       " 'O17764',\n",
       " 'O17767',\n",
       " 'Q9U3J8',\n",
       " 'Q9GUC9',\n",
       " 'O44629',\n",
       " 'P34404',\n",
       " 'Q22966',\n",
       " 'P90850',\n",
       " 'C8JQP1',\n",
       " 'Q20138',\n",
       " 'O16671',\n",
       " 'O16454',\n",
       " 'Q9XV21',\n",
       " 'O01575',\n",
       " 'Q93778',\n",
       " 'Q9TXK1',\n",
       " 'Q03599',\n",
       " 'Q22996',\n",
       " 'Q94247',\n",
       " 'O45098',\n",
       " 'G5EGU4',\n",
       " 'O45602',\n",
       " 'Q21109',\n",
       " 'Q9TXL8',\n",
       " 'Q21508',\n",
       " 'O16949',\n",
       " 'Q22554',\n",
       " 'O45790',\n",
       " 'O16784',\n",
       " 'O61952',\n",
       " 'G5EC13',\n",
       " 'O01780',\n",
       " 'O45888',\n",
       " 'Q9TZE0',\n",
       " 'O62416',\n",
       " 'Q9XXS1',\n",
       " 'Q9UAX6',\n",
       " 'Q9XXS0',\n",
       " 'O62455',\n",
       " 'Q9XWD2',\n",
       " 'O46001',\n",
       " 'Q9XTR8']"
      ]
     },
     "execution_count": 5,
     "metadata": {},
     "output_type": "execute_result"
    }
   ],
   "source": [
    "uniprot_ids"
   ]
  },
  {
   "cell_type": "code",
   "execution_count": 12,
   "metadata": {},
   "outputs": [],
   "source": [
    "primary_genes = []\n",
    "sequences = []\n",
    "\n",
    "homolog_finder = HomologFinder()\n",
    "\n",
    "id_to_name = {}\n",
    "for row in range(len(sheet.col(0))):\n",
    "    if sheet.col(2)[row].value not in ids:\n",
    "        continue\n",
    "    p = PrimaryGene(uniprot_id=sheet.col(3)[row].value, homolog_finder=homolog_finder)\n",
    "    sequences.append(p.get_sequence())\n",
    "    primary_genes.append(p)\n",
    "    id_to_name[sheet.col(2)[row].value] = sequences[-1].split('\\n')[0][1:]"
   ]
  },
  {
   "cell_type": "code",
   "execution_count": 15,
   "metadata": {},
   "outputs": [
    {
     "data": {
      "text/plain": [
       "{'C13C12.2': 'tr|Q17944|Q17944_CAEEL Uncharacterized protein OS=Caenorhabditis elegans OX=6239 GN=C13C12.2 PE=1 SV=3',\n",
       " 'C32H11.10': 'tr|Q9U3N6|Q9U3N6_CAEEL Downstream Of DAF-16 (Regulated by DAF-16) OS=Caenorhabditis elegans OX=6239 GN=dod-21 PE=4 SV=1',\n",
       " 'C36C5.5': 'tr|O16405|O16405_CAEEL Uncharacterized protein OS=Caenorhabditis elegans OX=6239 GN=C36C5.5 PE=1 SV=1',\n",
       " 'F11E6.3': 'tr|Q9U3J8|Q9U3J8_CAEEL Uncharacterized protein OS=Caenorhabditis elegans OX=6239 GN=CELE_F11E6.3 PE=4 SV=1',\n",
       " 'F25B4.9': 'tr|Q22966|Q22966_CAEEL C-type LECtin OS=Caenorhabditis elegans OX=6239 GN=clec-1 PE=1 SV=1',\n",
       " 'F41B5.3': 'tr|O16671|O16671_CAEEL CYtochrome P450 family OS=Caenorhabditis elegans OX=6239 GN=cyp-33c5 PE=1 SV=2',\n",
       " 'F41E6.6': 'tr|O16454|O16454_CAEEL Uncharacterized protein OS=Caenorhabditis elegans OX=6239 GN=tag-196 PE=1 SV=2',\n",
       " 'F54E2.1': 'tr|Q9TXK1|Q9TXK1_CAEEL Uncharacterized protein OS=Caenorhabditis elegans OX=6239 GN=CELE_F54E2.1 PE=1 SV=2',\n",
       " 'F56B6.6': 'tr|Q22996|Q22996_CAEEL Uncharacterized protein OS=Caenorhabditis elegans OX=6239 GN=CELE_F56B6.6 PE=4 SV=2',\n",
       " 'K04F1.11': 'tr|Q9TXL8|Q9TXL8_CAEEL Insulin/EGF-Receptor L Domain protein OS=Caenorhabditis elegans OX=6239 GN=irld-44 PE=4 SV=2',\n",
       " 'T24A6.16': 'tr|O61952|O61952_CAEEL Uncharacterized protein OS=Caenorhabditis elegans OX=6239 GN=CELE_T24A6.16 PE=4 SV=2',\n",
       " 'Y22F5A.6': 'sp|Q9XXS1|LYS3_CAEEL Lysozyme-like protein 3 OS=Caenorhabditis elegans OX=6239 GN=lys-3 PE=2 SV=1',\n",
       " 'Y38A10A.2': 'tr|Q9UAX6|Q9UAX6_CAEEL Uncharacterized protein OS=Caenorhabditis elegans OX=6239 GN=CELE_Y38A10A.2 PE=1 SV=2'}"
      ]
     },
     "execution_count": 15,
     "metadata": {},
     "output_type": "execute_result"
    }
   ],
   "source": [
    "assert len(id_to_name) == len(ids)\n",
    "id_to_name"
   ]
  },
  {
   "cell_type": "code",
   "execution_count": 9,
   "metadata": {},
   "outputs": [
    {
     "data": {
      "text/plain": [
       "'>tr|Q9UAX6|Q9UAX6_CAEEL Uncharacterized protein OS=Caenorhabditis elegans OX=6239 GN=CELE_Y38A10A.2 PE=1 SV=2\\nMIQAVLLLASVLGASVYYWQHNKEWSYVQTLDDIDRGDVILPNYNAHPILYNECTWPILD\\nPYEPDILKYIKKRNRRLACRSSPDVEVEWLDSKIQITLKSANVMSCVASDLSGFSANEDV\\nFVSPAIKLEADFPLEIPYTNFAVECEQNGKRIYRKSFYNYKKDQAEKPVEAMESTPTSPS\\nIAVLYLRSMSHSQLQREFPKTVKASRKFGFYDFAMFNKISDNITDIVNGTFWHKDVRHTV\\nGEYMKNERFCKVFSNTNLSGVPSDYDISNWAHSLKSDSCSDDDSVSERLIEQWAQFSIHN\\nTDHCYLSHIFVNNTIWSKSLDDTLSSVMNQFQLNEVFKNTLVVVVSAEGIPVGTFGNSYT\\nGKVEERNPILLAHIPDKVKKLYSDHVFHLESNQNRLITHLEVFDLLTSFSRLSKNQVIVP\\nVLDDFMDWKRKHVRGISPWQTLIPRNRTCYHVPIADEFCLCMDRKMDIEREYNQTFAIAQ\\nRLYDKMESDILSNYSCMHETTWIEERNYTSVYNLNEKVLNGTEEYIEFLIFGVRAFPKKI\\nNRLGNFFVNVLGMFKHNFNDDYNFERAYPYVSDTLKSGCLAGYLEKFCEMCHGARFLTS\\n'"
      ]
     },
     "execution_count": 9,
     "metadata": {},
     "output_type": "execute_result"
    }
   ],
   "source": [
    "p.get_sequence()"
   ]
  },
  {
   "cell_type": "code",
   "execution_count": 10,
   "metadata": {},
   "outputs": [
    {
     "data": {
      "text/plain": [
       "12"
      ]
     },
     "execution_count": 10,
     "metadata": {},
     "output_type": "execute_result"
    }
   ],
   "source": [
    "len(sequences)"
   ]
  },
  {
   "cell_type": "code",
   "execution_count": 11,
   "metadata": {},
   "outputs": [
    {
     "data": {
      "text/plain": [
       "['>tr|Q17944|Q17944_CAEEL Uncharacterized protein OS=Caenorhabditis elegans OX=6239 GN=C13C12.2 PE=1 SV=3\\nMKTIWLLLATCIHVFAHDELYILIDEVSLYNCRGVKNEITVKEEDVQIVNERGNRVYYIR\\nAPGNYSLDFKKIKVKQNFGFLAGEIGVTLQVPVLEGPAGIRFDLPYTMVPETTLLSQKCD\\nDFSGVIERNGRTYCRYCDLCHVSQAVENELASGRHQFLSQSENDTPISKCYNIESNEYDF\\nRRTIQLPSRSQLEGLIRSKAQGIDDEIKKRLNKGRGRFQVFLNLITSDKPAISLNRWMAG\\nSKDCECCFNRNAPHCDSLSYLYCNMEDCKTGWALQCLHKSAKVAACYTVEFNYRMTTSYS\\nDVLEFLRENNYPNQDSQYTQPNQPLVPTTRRPVTPSFEARQANQLQMTQACVESMPSRMT\\nHLKRYCTIFWNEKLCCEHCPDIC\\n',\n",
       " '>tr|Q9U3N6|Q9U3N6_CAEEL Downstream Of DAF-16 (Regulated by DAF-16) OS=Caenorhabditis elegans OX=6239 GN=dod-21 PE=4 SV=1\\nMIRSTAFILAFLAVSVASFNCNGTTTIEAPSAPSNTTFYPRGWTGKGLTPRALPNQVCFF\\nTVNVPKGYFATVTFNKRFNSTLGAYMVYSNHKMMMLNDNDRNPFIFTHPKFQINLAIGNS\\nTTTPDTTFGFKVVWSKFPELQKNFVNITRGNAPIAVRPTSNLTTFVGENNSHISLMAFSM\\nANSTLNHLLRQTLIFSGESVLDEFIGTLGQVLESKQQLTAYGNKISVHTFGLNSSIDYPL\\nFMGQHFEDTNGTMMYQGANCPSSGNCTVTLNSHSGRSWTVTSFHGPEYIKSFKSFPDTAV\\nINVYENRISNTTCVAKLTSSNYKKQLPLKVNGNMKFYELKGNGVYEMVLTRDATRASRLH\\nI\\n',\n",
       " '>tr|O16405|O16405_CAEEL Uncharacterized protein OS=Caenorhabditis elegans OX=6239 GN=C36C5.5 PE=1 SV=1\\nMKLVLLLVTIGILSLDLVQGVKVNLVPLGNMVNCTLSVEFHSIGCIMRLGEFFDDLDKLE\\nLDDKAEVVKFSKSCETIPTCFETPQCTPKGIAPEEKKEMVKKIKNYCSGVSYIANDFEEC\\nRDKLAENKCYKDWDPFQRKFNLEKDEKKKEQMREDSCKNYFGEDNCMKTVVTETCGESDW\\nAKLRDHFVGIGNNILSECGFSKTD\\n',\n",
       " '>tr|Q9U3J8|Q9U3J8_CAEEL Uncharacterized protein OS=Caenorhabditis elegans OX=6239 GN=CELE_F11E6.3 PE=4 SV=1\\nMRIIIVAGLIALALAHPMKRQAQNSYGDEAAPAPAAAAPEQSFAAEPSAPAETAPEPVAQ\\nEETAPEAPAQDAGYRSKRQAQNSYGDEAAAPAVEESAPAAEQPVEQAAEPVAQEEAAPEA\\nPAQDAGYRSKRQAQNSYGDEAAAAPAVEESAPAAEQPVEQAAEPVAQEEAAPEAPAQDAG\\nYRSKRQAQNSYGDEAAAAPAVEESAPAAEQPVEQAAEPVAQEEAAPEAPAQDAGYRSKRQ\\nAQNSYGDEAAAAPAVEESAPAAEQPVEQAAEPVAQEEAVPEAPAQDAGYRSKRQAQNSYG\\nDEAAAAPAAEESAPAAEQPVEQAAEPVAQEETAPEAPAQDAGYRA\\n',\n",
       " '>tr|Q22966|Q22966_CAEEL C-type LECtin OS=Caenorhabditis elegans OX=6239 GN=clec-1 PE=1 SV=1\\nMVLALITLVVSAFLIPEVLADPCGDSNWRYFPQTNSCYKLIDENLPWTIAEFKCLFQGAH\\nHVSIDSPEENQFVHELSRWSEIWTGAAFFGKDQHYVNSDGSRYGNFENWKDGRKPPMNRA\\nRRCIKMDGNGEWFQSCCKKKTFTICEKKAAYSASSYSGSNNSVNGFRFMRHRS\\n',\n",
       " '>tr|O16671|O16671_CAEEL CYtochrome P450 family OS=Caenorhabditis elegans OX=6239 GN=cyp-33c5 PE=1 SV=2\\nMILLLLSAAVCLFLFHELYWKRRSLPPGPTPLPFMGNTLAMLLEKPGYECFRRWTKQFGG\\nVYTFWMGNIPYVIIGSYDLLKETFVRDGDTYKDKYPQPFNEKLRGGMYGIVESNGHMWST\\nHRRFALSTLRDFGLGKDLMQEKILIEVEDIFRKYDAQLGKEQDIQVVLNNAIANVINQTI\\nFGYRFDETNQEEFERMRHLVEYQEKQFATVKVYVEAFVPTIGKFLPGKSLDQLLDDWRNS\\nFYTFFDTQIENHRKKIDFDSEESQDYAEAYLKEQKKQEALGEFELFSNTQFSNTCLDLWL\\nAGVSTTNTTVNWTICYVLNHPDVLQKMNEEFDQVVGSDRLVTMGDKNNLPYFNAVLNESQ\\nRCANIVPINLFHATTKDTVINGYPVKKGTGVIAQISTVMLDEKIFPEPYKFNPDRFIDEN\\nGKPIKIEQLIPFSIGKRQCPGEGLARMEIFLFLANFFNRYKISPSSKVFPNLDKKDNVGV\\nFPKDLHAILNRRNC\\n',\n",
       " '>tr|O16454|O16454_CAEEL Uncharacterized protein OS=Caenorhabditis elegans OX=6239 GN=tag-196 PE=1 SV=2\\nMGKPIVCLILLLASLHTVVSKVLPINEEDQLLYEKFARHGVEKFNQQSNDAYKWELDRTW\\nEVERKLSGGIHYSIFVTLVKTDCKKGQTDVEGKKCRKTDTLKKCQVEISRRVKRHGYGLK\\nDIVHIRNCEEEFTRNIDKFDHRKIQLTHDDSITVQELRKAKIIRPRDYVIWNSFLDFVDR\\nHEKKYTNKREVLKRFRVFKKNAKVIRELQKNEQGTAVYGFTKFSDMTTMEFKKIMLPYQW\\nEQPVYPMEQANFEKHDVTINEEDLPESFDWREKGAVTQVKNQGNCGSCWAFSTTGNVEGA\\nWFIAKNKLVSLSEQELVDCDSMDQGCNGGLPSNAYKEIIRMGGLEPEDAYPYDGRGETCH\\nLVRKDIAVYINGSVELPHDEVEMQKWLVTKGPISIGLNANTLQFYRHGVVHPFKIFCEPF\\nMLNHGVLIVGYGKDGRKPYWIVKNSWGPNWGEAGYFKLYRGKNVCGVQEMATSALVN\\n',\n",
       " '>tr|Q9TXK1|Q9TXK1_CAEEL Uncharacterized protein OS=Caenorhabditis elegans OX=6239 GN=CELE_F54E2.1 PE=1 SV=2\\nMLISISLLLTFCKLSLAQQVIPLNTLIGNNFENKIDVTPPFSLYVSAQMDSDFNLNNIYV\\nKTMDNQIKSLKDLRHSRQHAESGPISPFQATSQTLITTNLSNGTLALMNGFIYVTTSKQS\\nTDQSFRVYSVDNINTIKINGNVDGNCTIVFLNTDSRILPAHSSLFTKWQQPRDATVKMYK\\nGYPTDVLEKNSTQIFSNPVLATGKLLYIPTVETFAVTLGIFYMKTTNDVYFQVDSRNIDF\\nNGYSTQNYQTTGFFMKSKEVVGHNVTINCLRDTRFNGTTGANIMGYMPTKYGKVTVQTND\\nNTFADSFTVTPVDGILGGSVDKIGKNMTISSVDTDGGEFFVQYYVVQGEQISSTYAPGEP\\nTPPTYESTTKGVKNSKLMLVVGILFLSILSL\\n',\n",
       " '>tr|Q22996|Q22996_CAEEL Uncharacterized protein OS=Caenorhabditis elegans OX=6239 GN=CELE_F56B6.6 PE=4 SV=2\\nMTRTLSTFLLFSVLVFKAYSDCYFAFLQASGACSSDSDCGGAPCVMDVKAGSHVCCKPKP\\nGTTAPQCPGGMTYSGIPVLCDPADGDDGCPAGSTCSTSTTDFTKDSASPNSLCCKS\\n',\n",
       " '>tr|O61952|O61952_CAEEL Uncharacterized protein OS=Caenorhabditis elegans OX=6239 GN=CELE_T24A6.16 PE=4 SV=2\\nMHKLTHRFGLTLFVLLSLYFVSRRFNVDNAEEISTKAFIKPFISYAPSFFTAPDNKLIAC\\nEISKSMSQLTLNLMCLLYNETQYLADNNSFSDTWATSNRSCTKEFNFLNPSEVLKIDKNT\\nVRFAFVRDPFRRFVSLYLNKCVNKNECYDCGSDMRCVVEKIYNSFYDIQNSRNETLKIGH\\nIEAHAAPVTWNCNFHQGIEKWELLAMGSDTEERVSSAARLADILRKQGVRGSLVEKIHKN\\nILTAETAHSTHKSSNRYEAERQVREDPFVRDYLHKIYLFDYLVFPFDRRVLDTAYQKIDS\\nKLFLEEVAK\\n',\n",
       " '>sp|Q9XXS1|LYS3_CAEEL Lysozyme-like protein 3 OS=Caenorhabditis elegans OX=6239 GN=lys-3 PE=2 SV=1\\nMKLFALLVSITLCYSFPAPLQTNVSEPFGLLQKVSEQVIDPDYNIPEVKDAPAIPYDERN\\nSPTHAYSVDISFHTTPSDMDCLRDQGYKSVFVRALNPIGNTYFDRNALNTINNAFEAGLG\\nSEVYITPNINSTRSGADQISLVYQNLLANGINVRSIWIQVTSPTNWVAPMAVRIEFIQDM\\nIRSAKNLGLSVGIYTSFYDWLEITGGWNTFSSDVFLWYWHVLSMGTDGETTPTLEDFRPF\\nGPWRQATVKQFGQVEKLCGMIVNRNVYSTGNQHLSQIVHFSTHQENSSSEKKLIRVGGIG\\nF\\n',\n",
       " '>tr|Q9UAX6|Q9UAX6_CAEEL Uncharacterized protein OS=Caenorhabditis elegans OX=6239 GN=CELE_Y38A10A.2 PE=1 SV=2\\nMIQAVLLLASVLGASVYYWQHNKEWSYVQTLDDIDRGDVILPNYNAHPILYNECTWPILD\\nPYEPDILKYIKKRNRRLACRSSPDVEVEWLDSKIQITLKSANVMSCVASDLSGFSANEDV\\nFVSPAIKLEADFPLEIPYTNFAVECEQNGKRIYRKSFYNYKKDQAEKPVEAMESTPTSPS\\nIAVLYLRSMSHSQLQREFPKTVKASRKFGFYDFAMFNKISDNITDIVNGTFWHKDVRHTV\\nGEYMKNERFCKVFSNTNLSGVPSDYDISNWAHSLKSDSCSDDDSVSERLIEQWAQFSIHN\\nTDHCYLSHIFVNNTIWSKSLDDTLSSVMNQFQLNEVFKNTLVVVVSAEGIPVGTFGNSYT\\nGKVEERNPILLAHIPDKVKKLYSDHVFHLESNQNRLITHLEVFDLLTSFSRLSKNQVIVP\\nVLDDFMDWKRKHVRGISPWQTLIPRNRTCYHVPIADEFCLCMDRKMDIEREYNQTFAIAQ\\nRLYDKMESDILSNYSCMHETTWIEERNYTSVYNLNEKVLNGTEEYIEFLIFGVRAFPKKI\\nNRLGNFFVNVLGMFKHNFNDDYNFERAYPYVSDTLKSGCLAGYLEKFCEMCHGARFLTS\\n']"
      ]
     },
     "execution_count": 11,
     "metadata": {},
     "output_type": "execute_result"
    }
   ],
   "source": [
    "sequences"
   ]
  },
  {
   "cell_type": "code",
   "execution_count": 15,
   "metadata": {},
   "outputs": [],
   "source": [
    "with open('top51_not_secreted.fasta', 'w') as f:\n",
    "    f.write('\\n'.join(sequences))"
   ]
  },
  {
   "cell_type": "code",
   "execution_count": 9,
   "metadata": {},
   "outputs": [
    {
     "data": {
      "text/plain": [
       "'C:\\\\Users\\\\ashafix\\\\Documents\\\\GitHub\\\\C_Elegans_Homologs'"
      ]
     },
     "execution_count": 9,
     "metadata": {},
     "output_type": "execute_result"
    }
   ],
   "source": [
    "os.getcwd()"
   ]
  }
 ],
 "metadata": {
  "kernelspec": {
   "display_name": "Python 3",
   "language": "python",
   "name": "python3"
  },
  "language_info": {
   "codemirror_mode": {
    "name": "ipython",
    "version": 3
   },
   "file_extension": ".py",
   "mimetype": "text/x-python",
   "name": "python",
   "nbconvert_exporter": "python",
   "pygments_lexer": "ipython3",
   "version": "3.7.3"
  }
 },
 "nbformat": 4,
 "nbformat_minor": 2
}
